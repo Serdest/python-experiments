{
  "nbformat": 4,
  "nbformat_minor": 0,
  "metadata": {
    "colab": {
      "name": "Random Strong Password Generator.ipynb",
      "provenance": []
    },
    "kernelspec": {
      "name": "python3",
      "display_name": "Python 3"
    }
  },
  "cells": [
    {
      "cell_type": "markdown",
      "metadata": {
        "id": "mTxT89wwn6nC"
      },
      "source": [
        "## Generate Random **Strong Password** According to the Given Length\n"
      ]
    },
    {
      "cell_type": "code",
      "metadata": {
        "id": "W_E_a0kwiK54"
      },
      "source": [
        "import string\n",
        "import random"
      ],
      "execution_count": 1,
      "outputs": []
    },
    {
      "cell_type": "markdown",
      "metadata": {
        "id": "jbVqjeIjqzTU"
      },
      "source": [
        "## Basic Version\n",
        "\n",
        "User could only select *password length*."
      ]
    },
    {
      "cell_type": "code",
      "metadata": {
        "id": "by_nPU7jpI0v"
      },
      "source": [
        "LETTERS = string.ascii_letters \n",
        "DIGITS = string.digits \n",
        "PUNCTUATION = string.punctuation\n",
        "\n",
        "ALL = LETTERS + DIGITS + PUNCTUATION"
      ],
      "execution_count": 2,
      "outputs": []
    },
    {
      "cell_type": "code",
      "metadata": {
        "colab": {
          "base_uri": "https://localhost:8080/"
        },
        "id": "XcutVEItm9sh",
        "outputId": "a9e104f6-2c31-4f14-fd92-431932a2209b"
      },
      "source": [
        "length = 12 #password length\n",
        "\n",
        "random_list = [random.choice(ALL) for i in range(length)]\n",
        "password = \"\".join(random_list)\n",
        "print(password)"
      ],
      "execution_count": 3,
      "outputs": [
        {
          "output_type": "stream",
          "text": [
            "wvsnQ[15hF.4\n"
          ],
          "name": "stdout"
        }
      ]
    },
    {
      "cell_type": "markdown",
      "metadata": {
        "id": "9kDgYzYGp7ai"
      },
      "source": [
        "## Adding Some Options\n",
        "\n",
        "Please visit https://passwordsgenerator.net/. As you can see, some options are available on this website.\n",
        "\n",
        "How can we enable users to choose these options?\n",
        "\n",
        "*   Include Letters\n",
        "*   Include Numbers\n",
        "*   Include Punctuation\n"
      ]
    },
    {
      "cell_type": "code",
      "metadata": {
        "id": "oQwt9sM8p4w8"
      },
      "source": [
        "# add your code here"
      ],
      "execution_count": 4,
      "outputs": []
    }
  ]
}