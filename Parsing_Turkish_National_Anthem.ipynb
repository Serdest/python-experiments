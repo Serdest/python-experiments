{
  "nbformat": 4,
  "nbformat_minor": 0,
  "metadata": {
    "colab": {
      "name": "Parsing Turkish National Anthem.ipynb",
      "version": "0.3.2",
      "provenance": []
    },
    "kernelspec": {
      "name": "python3",
      "display_name": "Python 3"
    }
  },
  "cells": [
    {
      "cell_type": "markdown",
      "metadata": {
        "id": "C8VKNDDyHulW",
        "colab_type": "text"
      },
      "source": [
        "Goals:\n",
        "\n",
        "*   Parse Turkish National Anthem.\n",
        "*   Display spesific stanza based on user input. "
      ]
    },
    {
      "cell_type": "code",
      "metadata": {
        "id": "RlmUVt7-HoSm",
        "colab_type": "code",
        "colab": {}
      },
      "source": [
        "anthem = \"\"\"Korkma, sönmez bu şafaklarda yüzen al sancak;\n",
        "Sönmeden yurdumun üstünde tüten en son ocak.\n",
        "O benim milletimin yıldızıdır, parlayacak;\n",
        "O benimdir, o benim milletimindir ancak.\n",
        "Çatma, kurban olayım, çehreni ey nazlı hilal!\n",
        "Kahraman ırkıma bir gül! Ne bu şiddet, bu celal?\n",
        "Sana olmaz dökülen kanlarımız sonra helal...\n",
        "Hakkıdır, hakk'a tapan, milletimin istiklal!\n",
        "Ben ezelden beridir hür yaşadım, hür yaşarım.\n",
        "Hangi çılgın bana zincir vuracakmış? Şaşarım!\n",
        "Kükremiş sel gibiyim, bendimi çiğner, aşarım.\n",
        "Yırtarım dağları, enginlere sığmam, taşarım.\n",
        "Garbın afakını sarmışsa çelik zırhlı duvar,\n",
        "Benim iman dolu göğsüm gibi serhaddim var.\n",
        "Ulusun, korkma! Nasıl böyle bir imanı boğar,\n",
        "'Medeniyet!' dediğin tek dişi kalmış canavar?\n",
        "Arkadaş! Yurduma alçakları uğratma, sakın.\n",
        "Siper et gövdeni, dursun bu hayasızca akın.\n",
        "Doğacaktır sana va'dettigi günler hakk'ın...\n",
        "Kim bilir, belki yarın, belki yarından da yakın.\n",
        "Bastığın yerleri 'toprak!' diyerek geçme, tanı:\n",
        "Düşün altında binlerce kefensiz yatanı.\n",
        "Sen şehit oğlusun, incitme, yazıktır, atanı:\n",
        "Verme, dünyaları alsan da, bu cennet vatanı.\n",
        "Kim bu cennet vatanın uğruna olmaz ki feda?\n",
        "Şuheda fışkıracak toprağı sıksan, şuheda!\n",
        "Canı, cananı, bütün varımı alsın da hüda,\n",
        "Etmesin tek vatanımdan beni dünyada cüda.\n",
        "Ruhumun senden, ilahi, şudur ancak emeli:\n",
        "Değmesin mabedimin göğsüne namahrem eli.\n",
        "Bu ezanlar-ki şahadetleri dinin temeli,\n",
        "Ebedi yurdumun üstünde benim inlemeli.\n",
        "O zaman vecd ile bin secde eder -varsa- taşım,\n",
        "Her cerihamdan, ilahi, boşanıp kanlı yaşım,\n",
        "Fışkırır ruh-i mücerred gibi yerden na'şım;\n",
        "O zaman yükselerek arsa değer belki başım.\n",
        "Dalgalan sen de şafaklar gibi ey şanlı hilal!\n",
        "Olsun artık dökülen kanlarımın hepsi helal.\n",
        "Ebediyen sana yok, ırkıma yok izmihlal:\n",
        "Hakkıdır, hür yaşamış, bayrağımın hürriyet;\n",
        "Hakkıdır, hakk'a tapan, milletimin istiklal!\"\"\""
      ],
      "execution_count": 0,
      "outputs": []
    },
    {
      "cell_type": "code",
      "metadata": {
        "id": "u7HfNnM6IWyC",
        "colab_type": "code",
        "colab": {}
      },
      "source": [
        "anthem_list = anthem.split(\"\\n\")\n",
        "\n",
        "anthem_dict = {int(i/4+1): anthem_list[i:i+4] for i in range(0,len(anthem_list)) if i % 4 == 0}\n",
        "\n",
        "anthem_dict[10].append(''.join(anthem_dict[11]))\n",
        "del anthem_dict[11]"
      ],
      "execution_count": 0,
      "outputs": []
    },
    {
      "cell_type": "code",
      "metadata": {
        "id": "Ok6v-0CyKMDh",
        "colab_type": "code",
        "colab": {}
      },
      "source": [
        "from IPython.display import clear_output"
      ],
      "execution_count": 0,
      "outputs": []
    },
    {
      "cell_type": "code",
      "metadata": {
        "id": "jPZwjyhdIp84",
        "colab_type": "code",
        "colab": {
          "base_uri": "https://localhost:8080/",
          "height": 253
        },
        "outputId": "bd1ebd89-1030-461a-a74b-9b976ae1e9d8"
      },
      "source": [
        "while True:\n",
        "  usr_input = input(\"Which stanza? Press 'x' to quit.\")\n",
        "\n",
        "  if usr_input == \"x\":\n",
        "    print(\"Program terminated.\")\n",
        "    break\n",
        "  clear_output()\n",
        "  try:\n",
        "    usr_input = int(usr_input)\n",
        "  except ValueError:\n",
        "    print(\"Please input number.\")\n",
        "    continue\n",
        "  \n",
        "  if (usr_input < 1) or (usr_input > 10):\n",
        "    print(\"Please input number between 1-10\")\n",
        "  else:\n",
        "    print(50*\"*\")\n",
        "    for _ in anthem_dict[usr_input]:\n",
        "      print(_)"
      ],
      "execution_count": 4,
      "outputs": [
        {
          "output_type": "stream",
          "text": [
            "**************************************************\n",
            "Dalgalan sen de şafaklar gibi ey şanlı hilal!\n",
            "Olsun artık dökülen kanlarımın hepsi helal.\n",
            "Ebediyen sana yok, ırkıma yok izmihlal:\n",
            "Hakkıdır, hür yaşamış, bayrağımın hürriyet;\n",
            "Hakkıdır, hakk'a tapan, milletimin istiklal!\n",
            "Which stanza? Press 'x' to quit.x\n",
            "Program terminated.\n"
          ],
          "name": "stdout"
        }
      ]
    }
  ]
}