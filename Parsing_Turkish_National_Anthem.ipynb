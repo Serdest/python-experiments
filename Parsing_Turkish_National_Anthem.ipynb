{
 "cells": [
  {
   "cell_type": "markdown",
   "metadata": {
    "colab_type": "text",
    "id": "C8VKNDDyHulW"
   },
   "source": [
    "Goals:\n",
    "\n",
    "*   Parse Turkish National Anthem.\n",
    "*   Display spesific stanza based on user input. "
   ]
  },
  {
   "cell_type": "code",
   "execution_count": 0,
   "metadata": {
    "colab": {},
    "colab_type": "code",
    "id": "RlmUVt7-HoSm"
   },
   "outputs": [],
   "source": [
    "anthem = \"\"\"Korkma, sönmez bu şafaklarda yüzen al sancak;\n",
    "Sönmeden yurdumun üstünde tüten en son ocak.\n",
    "O benim milletimin yıldızıdır, parlayacak;\n",
    "O benimdir, o benim milletimindir ancak.\n",
    "\n",
    "Çatma, kurban olayım, çehreni ey nazlı hilal!\n",
    "Kahraman ırkıma bir gül! Ne bu şiddet, bu celal?\n",
    "Sana olmaz dökülen kanlarımız sonra helal...\n",
    "Hakkıdır, hakk'a tapan, milletimin istiklal!\n",
    "\n",
    "Ben ezelden beridir hür yaşadım, hür yaşarım.\n",
    "Hangi çılgın bana zincir vuracakmış? Şaşarım!\n",
    "Kükremiş sel gibiyim, bendimi çiğner, aşarım.\n",
    "Yırtarım dağları, enginlere sığmam, taşarım.\n",
    "\n",
    "Garbın afakını sarmışsa çelik zırhlı duvar,\n",
    "Benim iman dolu göğsüm gibi serhaddim var.\n",
    "Ulusun, korkma! Nasıl böyle bir imanı boğar,\n",
    "'Medeniyet!' dediğin tek dişi kalmış canavar?\n",
    "\n",
    "Arkadaş! Yurduma alçakları uğratma, sakın.\n",
    "Siper et gövdeni, dursun bu hayasızca akın.\n",
    "Doğacaktır sana va'dettigi günler hakk'ın...\n",
    "Kim bilir, belki yarın, belki yarından da yakın.\n",
    "\n",
    "Bastığın yerleri 'toprak!' diyerek geçme, tanı:\n",
    "Düşün altında binlerce kefensiz yatanı.\n",
    "Sen şehit oğlusun, incitme, yazıktır, atanı:\n",
    "Verme, dünyaları alsan da, bu cennet vatanı.\n",
    "\n",
    "Kim bu cennet vatanın uğruna olmaz ki feda?\n",
    "Şuheda fışkıracak toprağı sıksan, şuheda!\n",
    "Canı, cananı, bütün varımı alsın da hüda,\n",
    "Etmesin tek vatanımdan beni dünyada cüda.\n",
    "\n",
    "Ruhumun senden, ilahi, şudur ancak emeli:\n",
    "Değmesin mabedimin göğsüne namahrem eli.\n",
    "Bu ezanlar-ki şahadetleri dinin temeli,\n",
    "Ebedi yurdumun üstünde benim inlemeli.\n",
    "\n",
    "O zaman vecd ile bin secde eder -varsa- taşım,\n",
    "Her cerihamdan, ilahi, boşanıp kanlı yaşım,\n",
    "Fışkırır ruh-i mücerred gibi yerden na'şım;\n",
    "O zaman yükselerek arsa değer belki başım.\n",
    "\n",
    "Dalgalan sen de şafaklar gibi ey şanlı hilal!\n",
    "Olsun artık dökülen kanlarımın hepsi helal.\n",
    "Ebediyen sana yok, ırkıma yok izmihlal:\n",
    "Hakkıdır, hür yaşamış, bayrağımın hürriyet;\n",
    "Hakkıdır, hakk'a tapan, milletimin istiklal!\"\"\""
   ]
  },
  {
   "cell_type": "code",
   "execution_count": 0,
   "metadata": {
    "colab": {},
    "colab_type": "code",
    "id": "u7HfNnM6IWyC"
   },
   "outputs": [],
   "source": [
    "anthem_list = anthem.split(\"\\n\\n\")\n",
    "\n",
    "anthem_dict = {(i+1):kitalar[i] for i in range(len(kitalar))}"
   ]
  },
  {
   "cell_type": "code",
   "execution_count": 0,
   "metadata": {
    "colab": {},
    "colab_type": "code",
    "id": "Ok6v-0CyKMDh"
   },
   "outputs": [],
   "source": [
    "from IPython.display import clear_output"
   ]
  },
  {
   "cell_type": "code",
   "execution_count": 4,
   "metadata": {
    "colab": {
     "base_uri": "https://localhost:8080/",
     "height": 253
    },
    "colab_type": "code",
    "id": "jPZwjyhdIp84",
    "outputId": "bd1ebd89-1030-461a-a74b-9b976ae1e9d8"
   },
   "outputs": [
    {
     "name": "stdout",
     "output_type": "stream",
     "text": [
      "**************************************************\n",
      "Dalgalan sen de şafaklar gibi ey şanlı hilal!\n",
      "Olsun artık dökülen kanlarımın hepsi helal.\n",
      "Ebediyen sana yok, ırkıma yok izmihlal:\n",
      "Hakkıdır, hür yaşamış, bayrağımın hürriyet;\n",
      "Hakkıdır, hakk'a tapan, milletimin istiklal!\n",
      "Which stanza? Press 'x' to quit.x\n",
      "Program terminated.\n"
     ]
    }
   ],
   "source": [
    "while True:\n",
    "  usr_input = input(\"Which stanza? Press 'x' to quit.\")\n",
    "\n",
    "  if usr_input == \"x\":\n",
    "    print(\"Program terminated.\")\n",
    "    break\n",
    "  clear_output()\n",
    "  try:\n",
    "    usr_input = int(usr_input)\n",
    "  except ValueError:\n",
    "    print(\"Please input number.\")\n",
    "    continue\n",
    "  \n",
    "  if (usr_input < 1) or (usr_input > 10):\n",
    "    print(\"Please input number between 1-10\")\n",
    "  else:\n",
    "    print(50*\"*\")\n",
    "    for _ in anthem_dict[usr_input]:\n",
    "      print(_)"
   ]
  }
 ],
 "metadata": {
  "colab": {
   "name": "Parsing Turkish National Anthem.ipynb",
   "provenance": [],
   "version": "0.3.2"
  },
  "kernelspec": {
   "display_name": "Python 3",
   "language": "python",
   "name": "python3"
  },
  "language_info": {
   "codemirror_mode": {
    "name": "ipython",
    "version": 3
   },
   "file_extension": ".py",
   "mimetype": "text/x-python",
   "name": "python",
   "nbconvert_exporter": "python",
   "pygments_lexer": "ipython3",
   "version": "3.7.3"
  }
 },
 "nbformat": 4,
 "nbformat_minor": 1
}
